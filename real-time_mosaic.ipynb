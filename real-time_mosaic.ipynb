{
 "cells": [
  {
   "cell_type": "code",
   "execution_count": 2,
   "id": "current-liechtenstein",
   "metadata": {},
   "outputs": [],
   "source": [
    "import dlib, cv2\n",
    "import numpy as np\n",
    "import matplotlib.pyplot as plt\n",
    "\n",
    "detector = dlib.get_frontal_face_detector() # dlib에 있는 정면 얼굴 검출기 사용\n",
    "sp = dlib.shape_predictor('shape_predictor_68_face_landmarks.dat')\n",
    "facerec = dlib.face_recognition_model_v1('dlib_face_recognition_resnet_model_v1.dat')"
   ]
  },
  {
   "cell_type": "code",
   "execution_count": 3,
   "id": "electronic-fitting",
   "metadata": {},
   "outputs": [],
   "source": [
    "# 얼굴 탐지\n",
    "def find_faces(img):\n",
    "    dets = detector(img, 1)\n",
    "    \n",
    "    if len(dets) == 0:\n",
    "        return np.empty(0), np.empty(0), np.empty(0)\n",
    "    \n",
    "    rects, shapes = [], []\n",
    "    shapes_np = np.zeros((len(dets), 68, 2), dtype=np.int)\n",
    "    for k, d in enumerate(dets):\n",
    "        rect = ((d.left(), d.top()), (d.right(), d.bottom()))\n",
    "        rects.append(rect)\n",
    "\n",
    "        shape = sp(img, d)\n",
    "        \n",
    "        for i in range(0, 68):\n",
    "            shapes_np[k][i] = (shape.part(i).x, shape.part(i).y)\n",
    "\n",
    "        shapes.append(shape)\n",
    "        \n",
    "    return rects, shapes, shapes_np\n",
    "\n",
    "# 랜드마크 추출\n",
    "def encode_faces(img, shapes):\n",
    "    face_descriptors = []\n",
    "    for shape in shapes:\n",
    "        face_descriptor = facerec.compute_face_descriptor(img, shape)\n",
    "        face_descriptors.append(np.array(face_descriptor))\n",
    "\n",
    "    return np.array(face_descriptors)"
   ]
  },
  {
   "cell_type": "code",
   "execution_count": 4,
   "id": "arranged-parent",
   "metadata": {},
   "outputs": [
    {
     "name": "stdout",
     "output_type": "stream",
     "text": [
      "[['나', array([-0.09853306,  0.04192254, -0.00750632, -0.02881538, -0.11943647,\n",
      "       -0.05633156, -0.05924125, -0.14445364,  0.13263528, -0.08700871,\n",
      "        0.23490448, -0.09340746, -0.16063353, -0.09778604, -0.09571584,\n",
      "        0.17909861, -0.13252419, -0.13934724, -0.04285906, -0.00574602,\n",
      "        0.07480837,  0.04828412, -0.02839876,  0.03675881, -0.06291895,\n",
      "       -0.27205551, -0.09402128, -0.10892911,  0.07490613, -0.08709935,\n",
      "       -0.06554682,  0.05368298, -0.17564066, -0.11641715,  0.09280898,\n",
      "        0.11721478, -0.04752152, -0.0395039 ,  0.16571058, -0.02204025,\n",
      "       -0.24184258,  0.0734133 ,  0.06808091,  0.25764304,  0.18676937,\n",
      "        0.03409481, -0.0016872 , -0.22008914,  0.14190941, -0.11262579,\n",
      "        0.04184308,  0.14425655,  0.14679989,  0.08105846, -0.01558022,\n",
      "       -0.11328605,  0.04615614,  0.11244515, -0.15493034,  0.04187237,\n",
      "        0.16165553, -0.07144943, -0.01084448, -0.08212176,  0.17216527,\n",
      "       -0.01532686, -0.1253121 , -0.18197767,  0.10488976, -0.17442392,\n",
      "       -0.10387356,  0.07789319, -0.12306429, -0.19326767, -0.31412345,\n",
      "        0.01350556,  0.39461353,  0.09864684, -0.1883641 ,  0.09019335,\n",
      "       -0.0031031 , -0.01984692,  0.10643499,  0.17424247, -0.00736907,\n",
      "        0.02811088, -0.06340536, -0.02914347,  0.22870603, -0.07519886,\n",
      "        0.01045435,  0.18090616, -0.01964953,  0.08136129,  0.03592341,\n",
      "        0.05682385, -0.06389026,  0.02430807, -0.09137161, -0.01860422,\n",
      "       -0.00261412, -0.06321046,  0.01254567,  0.08498761, -0.13238277,\n",
      "        0.18348764, -0.01347584,  0.06342228, -0.0058458 , -0.04938176,\n",
      "       -0.04150047, -0.01982883,  0.15103516, -0.20280822,  0.23700781,\n",
      "        0.14333569,  0.11828469,  0.11253161,  0.14940664,  0.07849798,\n",
      "       -0.00973532, -0.0123429 , -0.22283243, -0.03673914,  0.07382867,\n",
      "       -0.05640458,  0.10178777,  0.01159395])]]\n"
     ]
    },
    {
     "name": "stderr",
     "output_type": "stream",
     "text": [
      "C:\\Users\\user\\anaconda3\\lib\\site-packages\\numpy\\core\\_asarray.py:136: VisibleDeprecationWarning: Creating an ndarray from ragged nested sequences (which is a list-or-tuple of lists-or-tuples-or ndarrays with different lengths or shapes) is deprecated. If you meant to do this, you must specify 'dtype=object' when creating the ndarray\n",
      "  return array(a, dtype, copy=False, order=order, subok=True)\n"
     ]
    }
   ],
   "source": [
    "img_paths = {\n",
    "    '나':'Me.jpg',\n",
    "}\n",
    "\n",
    "descs = []\n",
    "\n",
    "for name, img_path in img_paths.items(): \n",
    "    img = cv2.imread(img_path)\n",
    "    _, img_shapes, _ = find_faces(img)\n",
    "    descs.append([name, encode_faces(img, img_shapes)[0]])\n",
    "    \n",
    "np.save('descs.npy', descs)\n",
    "print(descs)"
   ]
  },
  {
   "cell_type": "code",
   "execution_count": 5,
   "id": "terminal-think",
   "metadata": {},
   "outputs": [],
   "source": [
    "cam = cv2.VideoCapture(0) # 노트북 웹캠 사용\n",
    "\n",
    "while True:\n",
    "    \n",
    "    ret, img = cam.read() \n",
    "    img = cv2.flip(img, 1) # 좌우 대칭\n",
    "    rects, shapes, _ = find_faces(img) # 얼굴 찾기\n",
    "    descriptors = encode_faces(img, shapes) # 인코딩\n",
    "    \n",
    "    for i, desc in enumerate(descriptors):\n",
    "        x = rects[i][0][0] # 얼굴 X 좌표\n",
    "        y = rects[i][0][1] # 얼굴 Y 좌표\n",
    "        w = rects[i][1][1]-rects[i][0][1] # 얼굴 너비 \n",
    "        h = rects[i][1][0]-rects[i][0][0] # 얼굴 높이\n",
    "        \n",
    "        # 추출된 랜드마크와 데이터베이스의 랜드마크들 중 제일 짧은 거리를 찾는 부분\n",
    "        descs1 = sorted(descs, key=lambda x: np.linalg.norm([desc] - x[1]))\n",
    "        dist = np.linalg.norm([desc] - descs1[0][1], axis=1)\n",
    "        \n",
    "        if dist < 0.5: # 그 거리가 0.5보다 작다면 그 사람으로 판단 \n",
    "            name = descs1[0][0]\n",
    "        else:           # 0.5보다 크다면 모르는 사람으로 판단 -> 모자이크 처리\n",
    "            name = \"모르는사람\"\n",
    "            mosaic_img = cv2.resize(img[y:y+h, x:x+w], dsize=(0, 0), fx=0.04, fy=0.04) # 축소\n",
    "            mosaic_img = cv2.resize(mosaic_img, (w, h), interpolation=cv2.INTER_AREA)  # 확대\n",
    "            img[y:y+h, x:x+w] = mosaic_img # 인식된 얼굴 영역 모자이크 처리 \n",
    "      \n",
    "    cv2.imshow('camera', img)\n",
    "    \n",
    "    k = cv2.waitKey(10) & 0xff # 'ESC' 키 누르면 종료\n",
    "    if k == 27:\n",
    "        break\n",
    "        \n",
    "cam.release()\n",
    "cv2.destroyAllWindows()"
   ]
  }
 ],
 "metadata": {
  "kernelspec": {
   "display_name": "Python 3",
   "language": "python",
   "name": "python3"
  },
  "language_info": {
   "codemirror_mode": {
    "name": "ipython",
    "version": 3
   },
   "file_extension": ".py",
   "mimetype": "text/x-python",
   "name": "python",
   "nbconvert_exporter": "python",
   "pygments_lexer": "ipython3",
   "version": "3.8.8"
  }
 },
 "nbformat": 4,
 "nbformat_minor": 5
}
